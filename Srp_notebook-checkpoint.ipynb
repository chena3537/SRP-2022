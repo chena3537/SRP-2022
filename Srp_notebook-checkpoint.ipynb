{
 "cells": [
  {
   "cell_type": "code",
   "execution_count": 93,
   "id": "abd92d13-af70-48bc-8b8b-7b39581e6d1e",
   "metadata": {},
   "outputs": [
    {
     "data": {
      "text/html": [
       "<div>\n",
       "<style scoped>\n",
       "    .dataframe tbody tr th:only-of-type {\n",
       "        vertical-align: middle;\n",
       "    }\n",
       "\n",
       "    .dataframe tbody tr th {\n",
       "        vertical-align: top;\n",
       "    }\n",
       "\n",
       "    .dataframe thead th {\n",
       "        text-align: right;\n",
       "    }\n",
       "</style>\n",
       "<table border=\"1\" class=\"dataframe\">\n",
       "  <thead>\n",
       "    <tr style=\"text-align: right;\">\n",
       "      <th></th>\n",
       "      <th>X1</th>\n",
       "      <th>X2</th>\n",
       "      <th>X3</th>\n",
       "      <th>X4</th>\n",
       "      <th>X5</th>\n",
       "      <th>X6</th>\n",
       "      <th>X7</th>\n",
       "      <th>X8</th>\n",
       "      <th>X9</th>\n",
       "      <th>X10</th>\n",
       "      <th>...</th>\n",
       "      <th>X170</th>\n",
       "      <th>X171</th>\n",
       "      <th>X172</th>\n",
       "      <th>X173</th>\n",
       "      <th>X174</th>\n",
       "      <th>X175</th>\n",
       "      <th>X176</th>\n",
       "      <th>X177</th>\n",
       "      <th>X178</th>\n",
       "      <th>SEIZURE_LABEL</th>\n",
       "    </tr>\n",
       "  </thead>\n",
       "  <tbody>\n",
       "    <tr>\n",
       "      <th>0</th>\n",
       "      <td>135</td>\n",
       "      <td>190</td>\n",
       "      <td>229</td>\n",
       "      <td>223</td>\n",
       "      <td>192</td>\n",
       "      <td>125</td>\n",
       "      <td>55</td>\n",
       "      <td>-9</td>\n",
       "      <td>-33</td>\n",
       "      <td>-38</td>\n",
       "      <td>...</td>\n",
       "      <td>-17</td>\n",
       "      <td>-15</td>\n",
       "      <td>-31</td>\n",
       "      <td>-77</td>\n",
       "      <td>-103</td>\n",
       "      <td>-127</td>\n",
       "      <td>-116</td>\n",
       "      <td>-83</td>\n",
       "      <td>-51</td>\n",
       "      <td>0</td>\n",
       "    </tr>\n",
       "    <tr>\n",
       "      <th>1</th>\n",
       "      <td>386</td>\n",
       "      <td>382</td>\n",
       "      <td>356</td>\n",
       "      <td>331</td>\n",
       "      <td>320</td>\n",
       "      <td>315</td>\n",
       "      <td>307</td>\n",
       "      <td>272</td>\n",
       "      <td>244</td>\n",
       "      <td>232</td>\n",
       "      <td>...</td>\n",
       "      <td>164</td>\n",
       "      <td>150</td>\n",
       "      <td>146</td>\n",
       "      <td>152</td>\n",
       "      <td>157</td>\n",
       "      <td>156</td>\n",
       "      <td>154</td>\n",
       "      <td>143</td>\n",
       "      <td>129</td>\n",
       "      <td>1</td>\n",
       "    </tr>\n",
       "    <tr>\n",
       "      <th>2</th>\n",
       "      <td>-32</td>\n",
       "      <td>-39</td>\n",
       "      <td>-47</td>\n",
       "      <td>-37</td>\n",
       "      <td>-32</td>\n",
       "      <td>-36</td>\n",
       "      <td>-57</td>\n",
       "      <td>-73</td>\n",
       "      <td>-85</td>\n",
       "      <td>-94</td>\n",
       "      <td>...</td>\n",
       "      <td>57</td>\n",
       "      <td>64</td>\n",
       "      <td>48</td>\n",
       "      <td>19</td>\n",
       "      <td>-12</td>\n",
       "      <td>-30</td>\n",
       "      <td>-35</td>\n",
       "      <td>-35</td>\n",
       "      <td>-36</td>\n",
       "      <td>0</td>\n",
       "    </tr>\n",
       "    <tr>\n",
       "      <th>3</th>\n",
       "      <td>-105</td>\n",
       "      <td>-101</td>\n",
       "      <td>-96</td>\n",
       "      <td>-92</td>\n",
       "      <td>-89</td>\n",
       "      <td>-95</td>\n",
       "      <td>-102</td>\n",
       "      <td>-100</td>\n",
       "      <td>-87</td>\n",
       "      <td>-79</td>\n",
       "      <td>...</td>\n",
       "      <td>-82</td>\n",
       "      <td>-81</td>\n",
       "      <td>-80</td>\n",
       "      <td>-77</td>\n",
       "      <td>-85</td>\n",
       "      <td>-77</td>\n",
       "      <td>-72</td>\n",
       "      <td>-69</td>\n",
       "      <td>-65</td>\n",
       "      <td>0</td>\n",
       "    </tr>\n",
       "    <tr>\n",
       "      <th>4</th>\n",
       "      <td>-9</td>\n",
       "      <td>-65</td>\n",
       "      <td>-98</td>\n",
       "      <td>-102</td>\n",
       "      <td>-78</td>\n",
       "      <td>-48</td>\n",
       "      <td>-16</td>\n",
       "      <td>0</td>\n",
       "      <td>-21</td>\n",
       "      <td>-59</td>\n",
       "      <td>...</td>\n",
       "      <td>4</td>\n",
       "      <td>2</td>\n",
       "      <td>-12</td>\n",
       "      <td>-32</td>\n",
       "      <td>-41</td>\n",
       "      <td>-65</td>\n",
       "      <td>-83</td>\n",
       "      <td>-89</td>\n",
       "      <td>-73</td>\n",
       "      <td>0</td>\n",
       "    </tr>\n",
       "  </tbody>\n",
       "</table>\n",
       "<p>5 rows × 179 columns</p>\n",
       "</div>"
      ],
      "text/plain": [
       "    X1   X2   X3   X4   X5   X6   X7   X8   X9  X10  ...  X170  X171  X172  \\\n",
       "0  135  190  229  223  192  125   55   -9  -33  -38  ...   -17   -15   -31   \n",
       "1  386  382  356  331  320  315  307  272  244  232  ...   164   150   146   \n",
       "2  -32  -39  -47  -37  -32  -36  -57  -73  -85  -94  ...    57    64    48   \n",
       "3 -105 -101  -96  -92  -89  -95 -102 -100  -87  -79  ...   -82   -81   -80   \n",
       "4   -9  -65  -98 -102  -78  -48  -16    0  -21  -59  ...     4     2   -12   \n",
       "\n",
       "   X173  X174  X175  X176  X177  X178  SEIZURE_LABEL  \n",
       "0   -77  -103  -127  -116   -83   -51              0  \n",
       "1   152   157   156   154   143   129              1  \n",
       "2    19   -12   -30   -35   -35   -36              0  \n",
       "3   -77   -85   -77   -72   -69   -65              0  \n",
       "4   -32   -41   -65   -83   -89   -73              0  \n",
       "\n",
       "[5 rows x 179 columns]"
      ]
     },
     "execution_count": 93,
     "metadata": {},
     "output_type": "execute_result"
    }
   ],
   "source": [
    "import pandas as pd\n",
    "import numpy as np\n",
    "df = pd.read_csv(r'C:\\Users\\alexa\\OneDrive\\Desktop\\data.csv')\n",
    "df[\"SEIZURE_LABEL\"] = df.y == 1\n",
    "df[\"SEIZURE_LABEL\"] = df[\"SEIZURE_LABEL\"].astype(int)\n",
    "df.pop('y')\n",
    "df.drop(df.columns[0], axis=1, inplace=True)\n",
    "df.head()"
   ]
  },
  {
   "cell_type": "code",
   "execution_count": 94,
   "id": "9c4a5525-1ab9-4087-9445-9119f68f0771",
   "metadata": {},
   "outputs": [
    {
     "name": "stdout",
     "output_type": "stream",
     "text": [
      "0.2\n"
     ]
    }
   ],
   "source": [
    "def seizure_prevalence(label):\n",
    "    return sum(label) / len(label)\n",
    "\n",
    "print(seizure_prevalence(df[\"SEIZURE_LABEL\"].values))"
   ]
  },
  {
   "cell_type": "code",
   "execution_count": 95,
   "id": "7c9dbd9e-faee-4c4f-8f16-1cd051fbc1b1",
   "metadata": {},
   "outputs": [
    {
     "name": "stdout",
     "output_type": "stream",
     "text": [
      "[0 0 0 ... 1 1 1]\n",
      "[0 1 1 ... 0 1 0]\n",
      "2300 9200\n"
     ]
    }
   ],
   "source": [
    "train = df.sample(frac=0.8, random_state = 1)\n",
    "test_val = df.drop(train.index)\n",
    "test = test_val.sample(frac=0.5, random_state = 1)\n",
    "val = test_val.drop(test.index)\n",
    "print(test['SEIZURE_LABEL'].values)\n",
    "print(val['SEIZURE_LABEL'].values)\n",
    "print(len(test_val), len(train))"
   ]
  },
  {
   "cell_type": "code",
   "execution_count": 96,
   "id": "1dd17c5b-67e0-44c4-9ea2-b1a469d771bc",
   "metadata": {},
   "outputs": [
    {
     "name": "stdout",
     "output_type": "stream",
     "text": [
      "Train balanced prevalence(n = 3698):0.500\n"
     ]
    }
   ],
   "source": [
    "rows_pos = train.SEIZURE_LABEL == 1\n",
    "df_train_pos =train.loc[rows_pos]\n",
    "df_train_neg = train.loc[~rows_pos]\n",
    "\n",
    "len(df_train_pos)\n",
    "\n",
    "df_train = pd.concat([df_train_pos, \n",
    "                      df_train_neg.sample(n=len(df_train_pos), random_state = 1)], axis=0, ignore_index=True)\n",
    "\n",
    "print('Train balanced prevalence(n = %d):%.3f'%(len(df_train), seizure_prevalence(df_train.SEIZURE_LABEL.values)))"
   ]
  },
  {
   "cell_type": "code",
   "execution_count": 97,
   "id": "66fd0b71-8244-4482-a639-7221098773bb",
   "metadata": {},
   "outputs": [],
   "source": [
    "cols = df.columns.tolist()[:-1]\n",
    "X_train = df_train[cols].values\n",
    "X_valid = val[cols].values\n",
    "X_test = test[cols].values\n",
    "y_train = df_train['SEIZURE_LABEL'].values\n",
    "y_valid = val['SEIZURE_LABEL'].values\n",
    "y_test = test['SEIZURE_LABEL'].values"
   ]
  },
  {
   "cell_type": "code",
   "execution_count": 98,
   "id": "d8286227-ebfa-4d2c-a278-888a6042ed50",
   "metadata": {},
   "outputs": [],
   "source": [
    "from sklearn.metrics import roc_auc_score, accuracy_score, precision_score, recall_score\n",
    "\n",
    "def print_report(y_actual, y_pred, thresh = 0.5):\n",
    "    \n",
    "    auc = roc_auc_score(y_actual, y_pred)\n",
    "    accuracy = accuracy_score(y_actual, (y_pred > thresh))\n",
    "    recall = recall_score(y_actual, (y_pred > thresh))\n",
    "    precision = precision_score(y_actual, (y_pred > thresh))\n",
    "    print('AUC:%.3f'%auc)\n",
    "    print('accuracy:%.3f'%accuracy)\n",
    "    print('recall:%.3f'%recall)\n",
    "    print('precision:%.3f'%precision)\n",
    "    print('prevalence:%.3f'%seizure_prevalence(y_actual))\n",
    "    print(' ')\n",
    "    return auc, accuracy, recall, precision"
   ]
  },
  {
   "cell_type": "code",
   "execution_count": 99,
   "id": "7f0bc580-79a4-415a-95a7-fdcac7f06210",
   "metadata": {},
   "outputs": [
    {
     "name": "stdout",
     "output_type": "stream",
     "text": [
      "(0.9038961038961038, 16)\n"
     ]
    }
   ],
   "source": [
    "from sklearn.ensemble import RandomForestClassifier\n",
    "n = len(df_train)\n",
    "means = []\n",
    "for i in range(5,20):\n",
    "    scores = []\n",
    "    for j in range(0,n,n//4):\n",
    "        valid_cv = df_train[j:j+n//4]        \n",
    "        train_cv = df_train.drop(valid_cv.index)\n",
    "        X_train_cv = train_cv[cols].values\n",
    "        X_valid_cv = valid_cv[cols].values\n",
    "        y_train_cv = train_cv['SEIZURE_LABEL'].values\n",
    "        y_valid_cv = valid_cv['SEIZURE_LABEL'].values\n",
    "        \n",
    "        rf = RandomForestClassifier(max_depth = 6, random_state = 123, n_estimators = i)\n",
    "        rf.fit(X_train_cv, y_train_cv)\n",
    "\n",
    "        y_train_scores = rf.predict_proba(X_train_cv)[:,1]\n",
    "        y_train_preds = rf.predict(X_train_cv)\n",
    "\n",
    "        y_valid_scores = rf.predict_proba(X_valid_cv)[:,1]\n",
    "        y_valid_preds = rf.predict(X_valid_cv)\n",
    "        scores.append(accuracy_score(y_valid_cv, y_valid_preds))\n",
    "    means.append((np.mean(scores),i))\n",
    "print(max(means))"
   ]
  },
  {
   "cell_type": "code",
   "execution_count": 102,
   "id": "c90a3abf",
   "metadata": {},
   "outputs": [
    {
     "name": "stdout",
     "output_type": "stream",
     "text": [
      "AUC:0.974\n",
      "accuracy:0.975\n",
      "recall:0.974\n",
      "precision:0.907\n",
      "prevalence:0.200\n",
      " \n"
     ]
    },
    {
     "data": {
      "text/plain": [
       "(0.9744565217391304,\n",
       " 0.9747826086956521,\n",
       " 0.9739130434782609,\n",
       " 0.9068825910931174)"
      ]
     },
     "execution_count": 102,
     "metadata": {},
     "output_type": "execute_result"
    }
   ],
   "source": [
    "rf = RandomForestClassifier(max_depth = 6, random_state = 123, n_estimators = 16)\n",
    "rf.fit(X_train, y_train)\n",
    "\n",
    "y_test_scores = rf.predict_proba(X_test)[:,1]\n",
    "y_test_preds = rf.predict(X_test)\n",
    "\n",
    "print_report(y_test, y_test_preds)"
   ]
  },
  {
   "cell_type": "code",
   "execution_count": 101,
   "id": "1dc6213f",
   "metadata": {},
   "outputs": [
    {
     "data": {
      "text/plain": [
       "<function matplotlib.pyplot.show(close=None, block=None)>"
      ]
     },
     "execution_count": 101,
     "metadata": {},
     "output_type": "execute_result"
    },
    {
     "data": {
      "image/png": "[encoded data removed]",
      "text/plain": [
       "<Figure size 432x288 with 2 Axes>"
      ]
     },
     "metadata": {
      "needs_background": "light"
     },
     "output_type": "display_data"
    },
    {
     "data": {
      "image/png": "[encoded data removed]",
      "text/plain": [
       "<Figure size 432x288 with 1 Axes>"
      ]
     },
     "metadata": {
      "needs_background": "light"
     },
     "output_type": "display_data"
    }
   ],
   "source": [
    "import matplotlib.pyplot as plt\n",
    "from sklearn.metrics import ConfusionMatrixDisplay, confusion_matrix, RocCurveDisplay\n",
    "ConfusionMatrixDisplay(confusion_matrix(y_test, y_test_preds)).plot()\n",
    "RocCurveDisplay.from_estimator(rf, X_test, y_test)\n",
    "plt.show"
   ]
  },
  {
   "cell_type": "code",
   "execution_count": null,
   "id": "c298da7d",
   "metadata": {},
   "outputs": [],
   "source": []
  }
 ],
 "metadata": {
  "kernelspec": {
   "display_name": "Python 3 (ipykernel)",
   "language": "python",
   "name": "python3"
  },
  "language_info": {
   "codemirror_mode": {
    "name": "ipython",
    "version": 3
   },
   "file_extension": ".py",
   "mimetype": "text/x-python",
   "name": "python",
   "nbconvert_exporter": "python",
   "pygments_lexer": "ipython3",
   "version": "3.8.12"
  }
 },
 "nbformat": 4,
 "nbformat_minor": 5
}
